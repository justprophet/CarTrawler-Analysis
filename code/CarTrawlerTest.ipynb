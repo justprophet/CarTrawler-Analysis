{
  "nbformat": 4,
  "nbformat_minor": 0,
  "metadata": {
    "colab": {
      "name": "CarTrawlerTest.ipynb",
      "provenance": [],
      "collapsed_sections": [],
      "authorship_tag": "ABX9TyMAyQ1r6g24kam96gVLaKmi",
      "include_colab_link": true
    },
    "kernelspec": {
      "name": "python3",
      "display_name": "Python 3"
    },
    "accelerator": "GPU"
  },
  "cells": [
    {
      "cell_type": "markdown",
      "metadata": {
        "id": "view-in-github",
        "colab_type": "text"
      },
      "source": [
        "<a href=\"https://colab.research.google.com/github/justprophet/CarTrawler-Analysis/blob/master/code/CarTrawlerTest.ipynb\" target=\"_parent\"><img src=\"https://colab.research.google.com/assets/colab-badge.svg\" alt=\"Open In Colab\"/></a>"
      ]
    },
    {
      "cell_type": "markdown",
      "metadata": {
        "id": "Ec96YLdX5KQi",
        "colab_type": "text"
      },
      "source": [
        "**Mounting Drive and Loading Data**"
      ]
    },
    {
      "cell_type": "code",
      "metadata": {
        "id": "CiVfft4L4aB4",
        "colab_type": "code",
        "outputId": "6a761344-db84-4cc1-b693-b37f28bb3612",
        "colab": {
          "base_uri": "https://localhost:8080/",
          "height": 34
        }
      },
      "source": [
        "from google.colab import drive \n",
        "drive.mount('/content/gdrive')"
      ],
      "execution_count": 0,
      "outputs": [
        {
          "output_type": "stream",
          "text": [
            "Drive already mounted at /content/gdrive; to attempt to forcibly remount, call drive.mount(\"/content/gdrive\", force_remount=True).\n"
          ],
          "name": "stdout"
        }
      ]
    },
    {
      "cell_type": "markdown",
      "metadata": {
        "id": "bcRnfEPr7BgX",
        "colab_type": "text"
      },
      "source": [
        "Importing Libraries"
      ]
    },
    {
      "cell_type": "code",
      "metadata": {
        "id": "Qs3hAUxR5TFw",
        "colab_type": "code",
        "colab": {}
      },
      "source": [
        "import numpy as np\n",
        "import pandas as pd\n",
        "import matplotlib.pyplot as plt\n",
        "import statsmodels.api as sm\n",
        "import seaborn as sns\n",
        "sns.set()"
      ],
      "execution_count": 0,
      "outputs": []
    },
    {
      "cell_type": "markdown",
      "metadata": {
        "id": "tMmi6laX6MJg",
        "colab_type": "text"
      },
      "source": [
        "**Loading the dataset**"
      ]
    },
    {
      "cell_type": "code",
      "metadata": {
        "id": "NCoSFP8X6QCi",
        "colab_type": "code",
        "outputId": "85190507-da4d-4983-b4d6-1a7dbcd2970a",
        "colab": {
          "base_uri": "https://localhost:8080/",
          "height": 394
        }
      },
      "source": [
        "data = pd.read_csv('gdrive/My Drive/job/Code/SampleData.txt', sep=\"|\", header=None)\n",
        "data.columns = [\"queryID\", \"vehicleID\", \"queryDate\", \"nFeature1\", \"nFeature2\", \"priceOfCar\", \"nFeature3\", \"nFeature4\", \"nFeature5\", \"cFeature1\", \"cFeature2\", \"cFeature3\", \"nFeature6\", \"nFeature7\", \"nFeature8\", \"cFeature4\", \"nFeature9\", \"nFeature10\", \"nFeature11\", \"nQFeature1\", \"nQFeature2\", \"RentDuration\", \"PickUpDate\", \"nQFeature3\", \"Target\" ]\n",
        "data.head()"
      ],
      "execution_count": 0,
      "outputs": [
        {
          "output_type": "execute_result",
          "data": {
            "text/html": [
              "<div>\n",
              "<style scoped>\n",
              "    .dataframe tbody tr th:only-of-type {\n",
              "        vertical-align: middle;\n",
              "    }\n",
              "\n",
              "    .dataframe tbody tr th {\n",
              "        vertical-align: top;\n",
              "    }\n",
              "\n",
              "    .dataframe thead th {\n",
              "        text-align: right;\n",
              "    }\n",
              "</style>\n",
              "<table border=\"1\" class=\"dataframe\">\n",
              "  <thead>\n",
              "    <tr style=\"text-align: right;\">\n",
              "      <th></th>\n",
              "      <th>queryID</th>\n",
              "      <th>vehicleID</th>\n",
              "      <th>queryDate</th>\n",
              "      <th>nFeature1</th>\n",
              "      <th>nFeature2</th>\n",
              "      <th>priceOfCar</th>\n",
              "      <th>nFeature3</th>\n",
              "      <th>nFeature4</th>\n",
              "      <th>nFeature5</th>\n",
              "      <th>cFeature1</th>\n",
              "      <th>cFeature2</th>\n",
              "      <th>cFeature3</th>\n",
              "      <th>nFeature6</th>\n",
              "      <th>nFeature7</th>\n",
              "      <th>nFeature8</th>\n",
              "      <th>cFeature4</th>\n",
              "      <th>nFeature9</th>\n",
              "      <th>nFeature10</th>\n",
              "      <th>nFeature11</th>\n",
              "      <th>nQFeature1</th>\n",
              "      <th>nQFeature2</th>\n",
              "      <th>RentDuration</th>\n",
              "      <th>PickUpDate</th>\n",
              "      <th>nQFeature3</th>\n",
              "      <th>Target</th>\n",
              "    </tr>\n",
              "  </thead>\n",
              "  <tbody>\n",
              "    <tr>\n",
              "      <th>0</th>\n",
              "      <td>102120401529162609</td>\n",
              "      <td>1001396153</td>\n",
              "      <td>2017-01-02 12:04:01</td>\n",
              "      <td>2</td>\n",
              "      <td>1</td>\n",
              "      <td>750.26</td>\n",
              "      <td>2</td>\n",
              "      <td>1</td>\n",
              "      <td>1</td>\n",
              "      <td>5</td>\n",
              "      <td>1</td>\n",
              "      <td>7</td>\n",
              "      <td>1</td>\n",
              "      <td>0</td>\n",
              "      <td>8</td>\n",
              "      <td>8.0</td>\n",
              "      <td>385</td>\n",
              "      <td>3</td>\n",
              "      <td>1</td>\n",
              "      <td>1</td>\n",
              "      <td>2</td>\n",
              "      <td>14.0</td>\n",
              "      <td>2017-02-04 00:00:00</td>\n",
              "      <td>71</td>\n",
              "      <td>0</td>\n",
              "    </tr>\n",
              "    <tr>\n",
              "      <th>1</th>\n",
              "      <td>102120401529162609</td>\n",
              "      <td>401793302</td>\n",
              "      <td>2017-01-02 12:04:01</td>\n",
              "      <td>2</td>\n",
              "      <td>1</td>\n",
              "      <td>322.12</td>\n",
              "      <td>4</td>\n",
              "      <td>1</td>\n",
              "      <td>1</td>\n",
              "      <td>5</td>\n",
              "      <td>5</td>\n",
              "      <td>5</td>\n",
              "      <td>0</td>\n",
              "      <td>0</td>\n",
              "      <td>4</td>\n",
              "      <td>6.0</td>\n",
              "      <td>1368</td>\n",
              "      <td>3</td>\n",
              "      <td>0</td>\n",
              "      <td>1</td>\n",
              "      <td>2</td>\n",
              "      <td>14.0</td>\n",
              "      <td>2017-02-04 00:00:00</td>\n",
              "      <td>71</td>\n",
              "      <td>0</td>\n",
              "    </tr>\n",
              "    <tr>\n",
              "      <th>2</th>\n",
              "      <td>102120401529162609</td>\n",
              "      <td>2100312948</td>\n",
              "      <td>2017-01-02 12:04:01</td>\n",
              "      <td>1</td>\n",
              "      <td>1</td>\n",
              "      <td>466.38</td>\n",
              "      <td>1</td>\n",
              "      <td>1</td>\n",
              "      <td>2</td>\n",
              "      <td>5</td>\n",
              "      <td>5</td>\n",
              "      <td>5</td>\n",
              "      <td>1</td>\n",
              "      <td>0</td>\n",
              "      <td>4</td>\n",
              "      <td>7.0</td>\n",
              "      <td>1741</td>\n",
              "      <td>3</td>\n",
              "      <td>0</td>\n",
              "      <td>1</td>\n",
              "      <td>2</td>\n",
              "      <td>14.0</td>\n",
              "      <td>2017-02-04 00:00:00</td>\n",
              "      <td>71</td>\n",
              "      <td>0</td>\n",
              "    </tr>\n",
              "    <tr>\n",
              "      <th>3</th>\n",
              "      <td>102120401529162609</td>\n",
              "      <td>1697088827</td>\n",
              "      <td>2017-01-02 12:04:01</td>\n",
              "      <td>1</td>\n",
              "      <td>1</td>\n",
              "      <td>303.52</td>\n",
              "      <td>4</td>\n",
              "      <td>1</td>\n",
              "      <td>2</td>\n",
              "      <td>5</td>\n",
              "      <td>5</td>\n",
              "      <td>5</td>\n",
              "      <td>1</td>\n",
              "      <td>0</td>\n",
              "      <td>4</td>\n",
              "      <td>6.0</td>\n",
              "      <td>1912</td>\n",
              "      <td>3</td>\n",
              "      <td>0</td>\n",
              "      <td>1</td>\n",
              "      <td>2</td>\n",
              "      <td>14.0</td>\n",
              "      <td>2017-02-04 00:00:00</td>\n",
              "      <td>71</td>\n",
              "      <td>0</td>\n",
              "    </tr>\n",
              "    <tr>\n",
              "      <th>4</th>\n",
              "      <td>102120401529162609</td>\n",
              "      <td>682137395</td>\n",
              "      <td>2017-01-02 12:04:01</td>\n",
              "      <td>1</td>\n",
              "      <td>1</td>\n",
              "      <td>282.19</td>\n",
              "      <td>1</td>\n",
              "      <td>1</td>\n",
              "      <td>1</td>\n",
              "      <td>3</td>\n",
              "      <td>1</td>\n",
              "      <td>4</td>\n",
              "      <td>1</td>\n",
              "      <td>0</td>\n",
              "      <td>2</td>\n",
              "      <td>6.0</td>\n",
              "      <td>1960</td>\n",
              "      <td>3</td>\n",
              "      <td>0</td>\n",
              "      <td>1</td>\n",
              "      <td>2</td>\n",
              "      <td>14.0</td>\n",
              "      <td>2017-02-04 00:00:00</td>\n",
              "      <td>71</td>\n",
              "      <td>0</td>\n",
              "    </tr>\n",
              "  </tbody>\n",
              "</table>\n",
              "</div>"
            ],
            "text/plain": [
              "              queryID   vehicleID  ... nQFeature3  Target\n",
              "0  102120401529162609  1001396153  ...         71       0\n",
              "1  102120401529162609   401793302  ...         71       0\n",
              "2  102120401529162609  2100312948  ...         71       0\n",
              "3  102120401529162609  1697088827  ...         71       0\n",
              "4  102120401529162609   682137395  ...         71       0\n",
              "\n",
              "[5 rows x 25 columns]"
            ]
          },
          "metadata": {
            "tags": []
          },
          "execution_count": 82
        }
      ]
    },
    {
      "cell_type": "code",
      "metadata": {
        "id": "ym4hVS09_1R8",
        "colab_type": "code",
        "outputId": "f5d1f5c8-fe9c-4e4e-e8cf-54423ec20c1d",
        "colab": {
          "base_uri": "https://localhost:8080/",
          "height": 34
        }
      },
      "source": [
        "data.shape"
      ],
      "execution_count": 0,
      "outputs": [
        {
          "output_type": "execute_result",
          "data": {
            "text/plain": [
              "(1108765, 25)"
            ]
          },
          "metadata": {
            "tags": []
          },
          "execution_count": 83
        }
      ]
    },
    {
      "cell_type": "markdown",
      "metadata": {
        "id": "H_J8nzvMCNjB",
        "colab_type": "text"
      },
      "source": [
        "**Changing the type of Nominal Data since it will originally be assumed as Continous or Numerical Data Type**"
      ]
    },
    {
      "cell_type": "code",
      "metadata": {
        "id": "bujwCdRQ_TN1",
        "colab_type": "code",
        "colab": {}
      },
      "source": [
        "data[['nFeature1', 'nFeature2', 'nFeature3', 'nFeature4', 'nFeature5', 'nFeature6', 'nFeature7', 'nFeature8', 'nFeature9', 'nFeature10', 'nFeature11']] = data[['nFeature1', 'nFeature2', 'nFeature3', 'nFeature4', 'nFeature5', 'nFeature6', 'nFeature7', 'nFeature8', 'nFeature9', 'nFeature10', 'nFeature11']].astype('category')\n",
        "data[['nQFeature1', 'nQFeature2', 'nQFeature3']] = data[['nQFeature1', 'nQFeature2', 'nQFeature3']].astype('category')\n",
        "data[['Target']] = data[['Target']].astype('category')"
      ],
      "execution_count": 0,
      "outputs": []
    },
    {
      "cell_type": "code",
      "metadata": {
        "id": "Iysfnmci6-V2",
        "colab_type": "code",
        "outputId": "45a6e8e8-bbd0-4e67-bbf8-03f67d00956f",
        "colab": {
          "base_uri": "https://localhost:8080/",
          "height": 444
        }
      },
      "source": [
        "data.describe(include='all')"
      ],
      "execution_count": 0,
      "outputs": [
        {
          "output_type": "execute_result",
          "data": {
            "text/html": [
              "<div>\n",
              "<style scoped>\n",
              "    .dataframe tbody tr th:only-of-type {\n",
              "        vertical-align: middle;\n",
              "    }\n",
              "\n",
              "    .dataframe tbody tr th {\n",
              "        vertical-align: top;\n",
              "    }\n",
              "\n",
              "    .dataframe thead th {\n",
              "        text-align: right;\n",
              "    }\n",
              "</style>\n",
              "<table border=\"1\" class=\"dataframe\">\n",
              "  <thead>\n",
              "    <tr style=\"text-align: right;\">\n",
              "      <th></th>\n",
              "      <th>queryID</th>\n",
              "      <th>vehicleID</th>\n",
              "      <th>queryDate</th>\n",
              "      <th>nFeature1</th>\n",
              "      <th>nFeature2</th>\n",
              "      <th>priceOfCar</th>\n",
              "      <th>nFeature3</th>\n",
              "      <th>nFeature4</th>\n",
              "      <th>nFeature5</th>\n",
              "      <th>cFeature1</th>\n",
              "      <th>cFeature2</th>\n",
              "      <th>cFeature3</th>\n",
              "      <th>nFeature6</th>\n",
              "      <th>nFeature7</th>\n",
              "      <th>nFeature8</th>\n",
              "      <th>cFeature4</th>\n",
              "      <th>nFeature9</th>\n",
              "      <th>nFeature10</th>\n",
              "      <th>nFeature11</th>\n",
              "      <th>nQFeature1</th>\n",
              "      <th>nQFeature2</th>\n",
              "      <th>RentDuration</th>\n",
              "      <th>PickUpDate</th>\n",
              "      <th>nQFeature3</th>\n",
              "      <th>Target</th>\n",
              "    </tr>\n",
              "  </thead>\n",
              "  <tbody>\n",
              "    <tr>\n",
              "      <th>count</th>\n",
              "      <td>1.108765e+06</td>\n",
              "      <td>1.108765e+06</td>\n",
              "      <td>1108765</td>\n",
              "      <td>1108765.0</td>\n",
              "      <td>1108765.0</td>\n",
              "      <td>1.108765e+06</td>\n",
              "      <td>1108765.0</td>\n",
              "      <td>1108765.0</td>\n",
              "      <td>1108765.0</td>\n",
              "      <td>1.108765e+06</td>\n",
              "      <td>1.108765e+06</td>\n",
              "      <td>1.108765e+06</td>\n",
              "      <td>1108765.0</td>\n",
              "      <td>1108765.0</td>\n",
              "      <td>1108765.0</td>\n",
              "      <td>1.095568e+06</td>\n",
              "      <td>1108765.0</td>\n",
              "      <td>1108765.0</td>\n",
              "      <td>1108765.0</td>\n",
              "      <td>1108765.0</td>\n",
              "      <td>1108765.0</td>\n",
              "      <td>1.108765e+06</td>\n",
              "      <td>1108765</td>\n",
              "      <td>1108765.0</td>\n",
              "      <td>1108765.0</td>\n",
              "    </tr>\n",
              "    <tr>\n",
              "      <th>unique</th>\n",
              "      <td>NaN</td>\n",
              "      <td>NaN</td>\n",
              "      <td>4051</td>\n",
              "      <td>3.0</td>\n",
              "      <td>2.0</td>\n",
              "      <td>NaN</td>\n",
              "      <td>6.0</td>\n",
              "      <td>4.0</td>\n",
              "      <td>5.0</td>\n",
              "      <td>NaN</td>\n",
              "      <td>NaN</td>\n",
              "      <td>NaN</td>\n",
              "      <td>2.0</td>\n",
              "      <td>2.0</td>\n",
              "      <td>16.0</td>\n",
              "      <td>NaN</td>\n",
              "      <td>58.0</td>\n",
              "      <td>6.0</td>\n",
              "      <td>2.0</td>\n",
              "      <td>44.0</td>\n",
              "      <td>2.0</td>\n",
              "      <td>NaN</td>\n",
              "      <td>294</td>\n",
              "      <td>2.0</td>\n",
              "      <td>2.0</td>\n",
              "    </tr>\n",
              "    <tr>\n",
              "      <th>top</th>\n",
              "      <td>NaN</td>\n",
              "      <td>NaN</td>\n",
              "      <td>2017-01-09 23:39:41</td>\n",
              "      <td>1.0</td>\n",
              "      <td>1.0</td>\n",
              "      <td>NaN</td>\n",
              "      <td>1.0</td>\n",
              "      <td>1.0</td>\n",
              "      <td>1.0</td>\n",
              "      <td>NaN</td>\n",
              "      <td>NaN</td>\n",
              "      <td>NaN</td>\n",
              "      <td>1.0</td>\n",
              "      <td>0.0</td>\n",
              "      <td>3.0</td>\n",
              "      <td>NaN</td>\n",
              "      <td>1912.0</td>\n",
              "      <td>3.0</td>\n",
              "      <td>0.0</td>\n",
              "      <td>1.0</td>\n",
              "      <td>2.0</td>\n",
              "      <td>NaN</td>\n",
              "      <td>2017-04-08 00:00:00</td>\n",
              "      <td>71.0</td>\n",
              "      <td>0.0</td>\n",
              "    </tr>\n",
              "    <tr>\n",
              "      <th>freq</th>\n",
              "      <td>NaN</td>\n",
              "      <td>NaN</td>\n",
              "      <td>751</td>\n",
              "      <td>843985.0</td>\n",
              "      <td>1035728.0</td>\n",
              "      <td>NaN</td>\n",
              "      <td>584486.0</td>\n",
              "      <td>847073.0</td>\n",
              "      <td>875922.0</td>\n",
              "      <td>NaN</td>\n",
              "      <td>NaN</td>\n",
              "      <td>NaN</td>\n",
              "      <td>1063519.0</td>\n",
              "      <td>917235.0</td>\n",
              "      <td>208960.0</td>\n",
              "      <td>NaN</td>\n",
              "      <td>65534.0</td>\n",
              "      <td>1055656.0</td>\n",
              "      <td>861997.0</td>\n",
              "      <td>761759.0</td>\n",
              "      <td>692282.0</td>\n",
              "      <td>NaN</td>\n",
              "      <td>14693</td>\n",
              "      <td>692282.0</td>\n",
              "      <td>1104707.0</td>\n",
              "    </tr>\n",
              "    <tr>\n",
              "      <th>mean</th>\n",
              "      <td>2.881691e+16</td>\n",
              "      <td>1.072195e+09</td>\n",
              "      <td>NaN</td>\n",
              "      <td>NaN</td>\n",
              "      <td>NaN</td>\n",
              "      <td>6.278993e+02</td>\n",
              "      <td>NaN</td>\n",
              "      <td>NaN</td>\n",
              "      <td>NaN</td>\n",
              "      <td>4.531986e+00</td>\n",
              "      <td>2.841257e+00</td>\n",
              "      <td>5.215796e+00</td>\n",
              "      <td>NaN</td>\n",
              "      <td>NaN</td>\n",
              "      <td>NaN</td>\n",
              "      <td>6.827730e+00</td>\n",
              "      <td>NaN</td>\n",
              "      <td>NaN</td>\n",
              "      <td>NaN</td>\n",
              "      <td>NaN</td>\n",
              "      <td>NaN</td>\n",
              "      <td>9.322821e+00</td>\n",
              "      <td>NaN</td>\n",
              "      <td>NaN</td>\n",
              "      <td>NaN</td>\n",
              "    </tr>\n",
              "    <tr>\n",
              "      <th>std</th>\n",
              "      <td>4.649240e+16</td>\n",
              "      <td>6.231840e+08</td>\n",
              "      <td>NaN</td>\n",
              "      <td>NaN</td>\n",
              "      <td>NaN</td>\n",
              "      <td>6.351999e+02</td>\n",
              "      <td>NaN</td>\n",
              "      <td>NaN</td>\n",
              "      <td>NaN</td>\n",
              "      <td>8.189798e-01</td>\n",
              "      <td>1.432739e+00</td>\n",
              "      <td>1.115382e+00</td>\n",
              "      <td>NaN</td>\n",
              "      <td>NaN</td>\n",
              "      <td>NaN</td>\n",
              "      <td>8.699843e-01</td>\n",
              "      <td>NaN</td>\n",
              "      <td>NaN</td>\n",
              "      <td>NaN</td>\n",
              "      <td>NaN</td>\n",
              "      <td>NaN</td>\n",
              "      <td>5.445166e+00</td>\n",
              "      <td>NaN</td>\n",
              "      <td>NaN</td>\n",
              "      <td>NaN</td>\n",
              "    </tr>\n",
              "    <tr>\n",
              "      <th>min</th>\n",
              "      <td>3.114840e+14</td>\n",
              "      <td>3.918000e+03</td>\n",
              "      <td>NaN</td>\n",
              "      <td>NaN</td>\n",
              "      <td>NaN</td>\n",
              "      <td>1.591800e+02</td>\n",
              "      <td>NaN</td>\n",
              "      <td>NaN</td>\n",
              "      <td>NaN</td>\n",
              "      <td>2.000000e+00</td>\n",
              "      <td>0.000000e+00</td>\n",
              "      <td>2.000000e+00</td>\n",
              "      <td>NaN</td>\n",
              "      <td>NaN</td>\n",
              "      <td>NaN</td>\n",
              "      <td>4.000000e+00</td>\n",
              "      <td>NaN</td>\n",
              "      <td>NaN</td>\n",
              "      <td>NaN</td>\n",
              "      <td>NaN</td>\n",
              "      <td>NaN</td>\n",
              "      <td>1.000000e+00</td>\n",
              "      <td>NaN</td>\n",
              "      <td>NaN</td>\n",
              "      <td>NaN</td>\n",
              "    </tr>\n",
              "    <tr>\n",
              "      <th>25%</th>\n",
              "      <td>5.214847e+14</td>\n",
              "      <td>5.275361e+08</td>\n",
              "      <td>NaN</td>\n",
              "      <td>NaN</td>\n",
              "      <td>NaN</td>\n",
              "      <td>2.942000e+02</td>\n",
              "      <td>NaN</td>\n",
              "      <td>NaN</td>\n",
              "      <td>NaN</td>\n",
              "      <td>4.000000e+00</td>\n",
              "      <td>2.000000e+00</td>\n",
              "      <td>5.000000e+00</td>\n",
              "      <td>NaN</td>\n",
              "      <td>NaN</td>\n",
              "      <td>NaN</td>\n",
              "      <td>6.000000e+00</td>\n",
              "      <td>NaN</td>\n",
              "      <td>NaN</td>\n",
              "      <td>NaN</td>\n",
              "      <td>NaN</td>\n",
              "      <td>NaN</td>\n",
              "      <td>6.000000e+00</td>\n",
              "      <td>NaN</td>\n",
              "      <td>NaN</td>\n",
              "      <td>NaN</td>\n",
              "    </tr>\n",
              "    <tr>\n",
              "      <th>50%</th>\n",
              "      <td>8.114858e+14</td>\n",
              "      <td>1.072732e+09</td>\n",
              "      <td>NaN</td>\n",
              "      <td>NaN</td>\n",
              "      <td>NaN</td>\n",
              "      <td>4.364200e+02</td>\n",
              "      <td>NaN</td>\n",
              "      <td>NaN</td>\n",
              "      <td>NaN</td>\n",
              "      <td>5.000000e+00</td>\n",
              "      <td>3.000000e+00</td>\n",
              "      <td>5.000000e+00</td>\n",
              "      <td>NaN</td>\n",
              "      <td>NaN</td>\n",
              "      <td>NaN</td>\n",
              "      <td>7.000000e+00</td>\n",
              "      <td>NaN</td>\n",
              "      <td>NaN</td>\n",
              "      <td>NaN</td>\n",
              "      <td>NaN</td>\n",
              "      <td>NaN</td>\n",
              "      <td>7.000000e+00</td>\n",
              "      <td>NaN</td>\n",
              "      <td>NaN</td>\n",
              "      <td>NaN</td>\n",
              "    </tr>\n",
              "    <tr>\n",
              "      <th>75%</th>\n",
              "      <td>1.021232e+17</td>\n",
              "      <td>1.619128e+09</td>\n",
              "      <td>NaN</td>\n",
              "      <td>NaN</td>\n",
              "      <td>NaN</td>\n",
              "      <td>7.245900e+02</td>\n",
              "      <td>NaN</td>\n",
              "      <td>NaN</td>\n",
              "      <td>NaN</td>\n",
              "      <td>5.000000e+00</td>\n",
              "      <td>4.000000e+00</td>\n",
              "      <td>5.000000e+00</td>\n",
              "      <td>NaN</td>\n",
              "      <td>NaN</td>\n",
              "      <td>NaN</td>\n",
              "      <td>8.000000e+00</td>\n",
              "      <td>NaN</td>\n",
              "      <td>NaN</td>\n",
              "      <td>NaN</td>\n",
              "      <td>NaN</td>\n",
              "      <td>NaN</td>\n",
              "      <td>1.300000e+01</td>\n",
              "      <td>NaN</td>\n",
              "      <td>NaN</td>\n",
              "      <td>NaN</td>\n",
              "    </tr>\n",
              "    <tr>\n",
              "      <th>max</th>\n",
              "      <td>1.091055e+17</td>\n",
              "      <td>2.147477e+09</td>\n",
              "      <td>NaN</td>\n",
              "      <td>NaN</td>\n",
              "      <td>NaN</td>\n",
              "      <td>3.687822e+04</td>\n",
              "      <td>NaN</td>\n",
              "      <td>NaN</td>\n",
              "      <td>NaN</td>\n",
              "      <td>5.000000e+00</td>\n",
              "      <td>6.000000e+00</td>\n",
              "      <td>9.000000e+00</td>\n",
              "      <td>NaN</td>\n",
              "      <td>NaN</td>\n",
              "      <td>NaN</td>\n",
              "      <td>8.000000e+00</td>\n",
              "      <td>NaN</td>\n",
              "      <td>NaN</td>\n",
              "      <td>NaN</td>\n",
              "      <td>NaN</td>\n",
              "      <td>NaN</td>\n",
              "      <td>7.000000e+01</td>\n",
              "      <td>NaN</td>\n",
              "      <td>NaN</td>\n",
              "      <td>NaN</td>\n",
              "    </tr>\n",
              "  </tbody>\n",
              "</table>\n",
              "</div>"
            ],
            "text/plain": [
              "             queryID     vehicleID  ... nQFeature3     Target\n",
              "count   1.108765e+06  1.108765e+06  ...  1108765.0  1108765.0\n",
              "unique           NaN           NaN  ...        2.0        2.0\n",
              "top              NaN           NaN  ...       71.0        0.0\n",
              "freq             NaN           NaN  ...   692282.0  1104707.0\n",
              "mean    2.881691e+16  1.072195e+09  ...        NaN        NaN\n",
              "std     4.649240e+16  6.231840e+08  ...        NaN        NaN\n",
              "min     3.114840e+14  3.918000e+03  ...        NaN        NaN\n",
              "25%     5.214847e+14  5.275361e+08  ...        NaN        NaN\n",
              "50%     8.114858e+14  1.072732e+09  ...        NaN        NaN\n",
              "75%     1.021232e+17  1.619128e+09  ...        NaN        NaN\n",
              "max     1.091055e+17  2.147477e+09  ...        NaN        NaN\n",
              "\n",
              "[11 rows x 25 columns]"
            ]
          },
          "metadata": {
            "tags": []
          },
          "execution_count": 85
        }
      ]
    },
    {
      "cell_type": "code",
      "metadata": {
        "id": "ElJWILJr_dve",
        "colab_type": "code",
        "outputId": "f04ec276-c8b9-4a37-f2a7-ab66b59c7c7b",
        "colab": {
          "base_uri": "https://localhost:8080/",
          "height": 459
        }
      },
      "source": [
        "data.isna().any()"
      ],
      "execution_count": 0,
      "outputs": [
        {
          "output_type": "execute_result",
          "data": {
            "text/plain": [
              "queryID         False\n",
              "vehicleID       False\n",
              "queryDate       False\n",
              "nFeature1       False\n",
              "nFeature2       False\n",
              "priceOfCar      False\n",
              "nFeature3       False\n",
              "nFeature4       False\n",
              "nFeature5       False\n",
              "cFeature1       False\n",
              "cFeature2       False\n",
              "cFeature3       False\n",
              "nFeature6       False\n",
              "nFeature7       False\n",
              "nFeature8       False\n",
              "cFeature4        True\n",
              "nFeature9       False\n",
              "nFeature10      False\n",
              "nFeature11      False\n",
              "nQFeature1      False\n",
              "nQFeature2      False\n",
              "RentDuration    False\n",
              "PickUpDate      False\n",
              "nQFeature3      False\n",
              "Target          False\n",
              "dtype: bool"
            ]
          },
          "metadata": {
            "tags": []
          },
          "execution_count": 86
        }
      ]
    },
    {
      "cell_type": "code",
      "metadata": {
        "id": "f8gZ82veA-4c",
        "colab_type": "code",
        "colab": {}
      },
      "source": [
        "data = data.drop('cFeature4', axis = 1)"
      ],
      "execution_count": 0,
      "outputs": []
    },
    {
      "cell_type": "markdown",
      "metadata": {
        "id": "rVu3h3yOvGwE",
        "colab_type": "text"
      },
      "source": [
        "**Data Exploration**"
      ]
    },
    {
      "cell_type": "code",
      "metadata": {
        "id": "4Dwb5gwyvM4v",
        "colab_type": "code",
        "outputId": "c0253a45-c78e-49cc-c711-818e44d553e2",
        "colab": {
          "base_uri": "https://localhost:8080/",
          "height": 68
        }
      },
      "source": [
        "data[\"Target\"].value_counts()"
      ],
      "execution_count": 0,
      "outputs": [
        {
          "output_type": "execute_result",
          "data": {
            "text/plain": [
              "0    1104707\n",
              "1       4058\n",
              "Name: Target, dtype: int64"
            ]
          },
          "metadata": {
            "tags": []
          },
          "execution_count": 88
        }
      ]
    },
    {
      "cell_type": "code",
      "metadata": {
        "id": "Ues6O9rHveLx",
        "colab_type": "code",
        "outputId": "ea37f06a-a4bf-4692-ded9-20a500711379",
        "colab": {
          "base_uri": "https://localhost:8080/",
          "height": 302
        }
      },
      "source": [
        "sns.countplot(x='Target', data=data, palette='hls')\n",
        "plt.show()\n",
        "plt.savefig('count_plot')"
      ],
      "execution_count": 0,
      "outputs": [
        {
          "output_type": "display_data",
          "data": {
            "image/png": "[encoded data removed]",
            "text/plain": [
              "<Figure size 432x288 with 1 Axes>"
            ]
          },
          "metadata": {
            "tags": []
          }
        },
        {
          "output_type": "display_data",
          "data": {
            "text/plain": [
              "<Figure size 432x288 with 0 Axes>"
            ]
          },
          "metadata": {
            "tags": []
          }
        }
      ]
    },
    {
      "cell_type": "code",
      "metadata": {
        "id": "LmcuBOnFwi3Q",
        "colab_type": "code",
        "outputId": "b6f98170-7a43-47d8-be31-426b551ae1d8",
        "colab": {
          "base_uri": "https://localhost:8080/",
          "height": 51
        }
      },
      "source": [
        "count_no_booking = len(data[data['Target']==0])\n",
        "count_booking = len(data[data['Target']==1])\n",
        "pct_of_no_booking = count_no_booking/(count_no_booking+count_booking)\n",
        "print(\"percentage of no booking is\", pct_of_no_booking*100)\n",
        "pct_of_booking = count_booking/(count_no_booking+count_booking)\n",
        "print(\"percentage of booking\", pct_of_booking*100)"
      ],
      "execution_count": 0,
      "outputs": [
        {
          "output_type": "stream",
          "text": [
            "percentage of no booking is 99.63400720621593\n",
            "percentage of booking 0.36599279378407507\n"
          ],
          "name": "stdout"
        }
      ]
    },
    {
      "cell_type": "markdown",
      "metadata": {
        "id": "LvpUfNXQv2Yl",
        "colab_type": "text"
      },
      "source": [
        "Our classes are imbalanced, and the ratio of no-booking to booking instances is 99.6:.37. Before we go ahead to balance the classes, let’s do some more exploration. "
      ]
    },
    {
      "cell_type": "code",
      "metadata": {
        "id": "bwju4DTyypCB",
        "colab_type": "code",
        "outputId": "3e47fb9e-cfbd-4c5a-b0a9-628f4f00ba26",
        "colab": {
          "base_uri": "https://localhost:8080/",
          "height": 142
        }
      },
      "source": [
        "data.groupby('Target').mean()"
      ],
      "execution_count": 0,
      "outputs": [
        {
          "output_type": "execute_result",
          "data": {
            "text/html": [
              "<div>\n",
              "<style scoped>\n",
              "    .dataframe tbody tr th:only-of-type {\n",
              "        vertical-align: middle;\n",
              "    }\n",
              "\n",
              "    .dataframe tbody tr th {\n",
              "        vertical-align: top;\n",
              "    }\n",
              "\n",
              "    .dataframe thead th {\n",
              "        text-align: right;\n",
              "    }\n",
              "</style>\n",
              "<table border=\"1\" class=\"dataframe\">\n",
              "  <thead>\n",
              "    <tr style=\"text-align: right;\">\n",
              "      <th></th>\n",
              "      <th>queryID</th>\n",
              "      <th>vehicleID</th>\n",
              "      <th>priceOfCar</th>\n",
              "      <th>cFeature1</th>\n",
              "      <th>cFeature2</th>\n",
              "      <th>cFeature3</th>\n",
              "      <th>RentDuration</th>\n",
              "    </tr>\n",
              "    <tr>\n",
              "      <th>Target</th>\n",
              "      <th></th>\n",
              "      <th></th>\n",
              "      <th></th>\n",
              "      <th></th>\n",
              "      <th></th>\n",
              "      <th></th>\n",
              "      <th></th>\n",
              "    </tr>\n",
              "  </thead>\n",
              "  <tbody>\n",
              "    <tr>\n",
              "      <th>0</th>\n",
              "      <td>2.881767e+16</td>\n",
              "      <td>1.072042e+09</td>\n",
              "      <td>628.979331</td>\n",
              "      <td>4.531307</td>\n",
              "      <td>2.841947</td>\n",
              "      <td>5.216280</td>\n",
              "      <td>9.321484</td>\n",
              "    </tr>\n",
              "    <tr>\n",
              "      <th>1</th>\n",
              "      <td>2.860973e+16</td>\n",
              "      <td>1.113731e+09</td>\n",
              "      <td>333.881730</td>\n",
              "      <td>4.716609</td>\n",
              "      <td>2.653277</td>\n",
              "      <td>5.084032</td>\n",
              "      <td>9.686792</td>\n",
              "    </tr>\n",
              "  </tbody>\n",
              "</table>\n",
              "</div>"
            ],
            "text/plain": [
              "             queryID     vehicleID  ...  cFeature3  RentDuration\n",
              "Target                              ...                         \n",
              "0       2.881767e+16  1.072042e+09  ...   5.216280      9.321484\n",
              "1       2.860973e+16  1.113731e+09  ...   5.084032      9.686792\n",
              "\n",
              "[2 rows x 7 columns]"
            ]
          },
          "metadata": {
            "tags": []
          },
          "execution_count": 91
        }
      ]
    },
    {
      "cell_type": "markdown",
      "metadata": {
        "id": "WVkUbyJmy184",
        "colab_type": "text"
      },
      "source": [
        "Observations:\n",
        "\n",
        "1. The average number of customers who did the booking choose less priced cars. Will do some futher analysis on this. \n",
        "\n",
        "2. On an average, continous Feature1 and continous Feature4 are higher when it comes to selection of cars, where as continous feature 2 and 3 are lower. \n",
        "\n",
        "3. Rent duration for booked cars is higher. \n"
      ]
    },
    {
      "cell_type": "markdown",
      "metadata": {
        "id": "4mGhaSk32PUe",
        "colab_type": "text"
      },
      "source": [
        "Since I know my data is very highly imbalanced, I am going to use undersampling to handle data"
      ]
    },
    {
      "cell_type": "code",
      "metadata": {
        "id": "w9zopWR42YJ6",
        "colab_type": "code",
        "colab": {}
      },
      "source": [
        "from sklearn.utils import resample\n",
        "from sklearn.model_selection import train_test_split"
      ],
      "execution_count": 0,
      "outputs": []
    },
    {
      "cell_type": "code",
      "metadata": {
        "id": "-KWpQHXU2bO6",
        "colab_type": "code",
        "colab": {}
      },
      "source": [
        "# Separate input features and target\n",
        "y = data.Target\n",
        "X = data.drop('Target', axis=1)"
      ],
      "execution_count": 0,
      "outputs": []
    },
    {
      "cell_type": "code",
      "metadata": {
        "id": "Cm1jw4s_2hV2",
        "colab_type": "code",
        "colab": {}
      },
      "source": [
        "# setting up testing and training sets\n",
        "X_train, X_test, y_train, y_test = train_test_split(X, y, test_size=0.25, random_state=27)"
      ],
      "execution_count": 0,
      "outputs": []
    },
    {
      "cell_type": "code",
      "metadata": {
        "id": "sb3fTSjL2hSw",
        "colab_type": "code",
        "colab": {}
      },
      "source": [
        "# concatenate our training data back together\n",
        "X = pd.concat([X_train, y_train], axis=1)\n",
        "\n",
        "# separate minority and majority classes\n",
        "not_booked = X[X.Target==0]\n",
        "booked = X[X.Target==1]"
      ],
      "execution_count": 0,
      "outputs": []
    },
    {
      "cell_type": "code",
      "metadata": {
        "id": "79eIdI632hQx",
        "colab_type": "code",
        "colab": {}
      },
      "source": [
        "# downsample majority\n",
        "not_booked_downsampled = resample(not_booked,\n",
        "                                replace = False, # sample without replacement\n",
        "                                n_samples = len(booked), # match minority n\n",
        "                                random_state = 27) # reproducible results"
      ],
      "execution_count": 0,
      "outputs": []
    },
    {
      "cell_type": "code",
      "metadata": {
        "id": "EpecV0Mt2hN5",
        "colab_type": "code",
        "colab": {}
      },
      "source": [
        "# combine minority and downsampled majority\n",
        "downsampled = pd.concat([not_booked_downsampled, booked])"
      ],
      "execution_count": 0,
      "outputs": []
    },
    {
      "cell_type": "code",
      "metadata": {
        "id": "Yqxyhs8W2hKX",
        "colab_type": "code",
        "outputId": "23ed8809-1522-4e3a-f8f6-64481dac7cf0",
        "colab": {
          "base_uri": "https://localhost:8080/",
          "height": 68
        }
      },
      "source": [
        "# checking counts\n",
        "downsampled.Target.value_counts()"
      ],
      "execution_count": 0,
      "outputs": [
        {
          "output_type": "execute_result",
          "data": {
            "text/plain": [
              "1    3061\n",
              "0    3061\n",
              "Name: Target, dtype: int64"
            ]
          },
          "metadata": {
            "tags": []
          },
          "execution_count": 98
        }
      ]
    },
    {
      "cell_type": "markdown",
      "metadata": {
        "id": "oq3Z19G37uv6",
        "colab_type": "text"
      },
      "source": [
        "\n",
        "\n",
        "Next, we will take help of some visualizations to see what categorical variables can be useful for prediction of our data"
      ]
    },
    {
      "cell_type": "code",
      "metadata": {
        "id": "QgO51nDi0bXl",
        "colab_type": "code",
        "outputId": "df91cf03-afb7-4edc-de79-87215fc38c78",
        "colab": {
          "base_uri": "https://localhost:8080/",
          "height": 298
        }
      },
      "source": [
        "table=pd.crosstab(downsampled.nFeature1,downsampled.Target)\n",
        "table.div(table.sum(1).astype(float), axis=0).plot(kind='bar', stacked=True)\n",
        "plt.title('Stacked Bar Chart of Nominal Feature1 vs Booking')\n",
        "plt.xlabel('Nominal Feature 1')\n",
        "plt.ylabel('Proportion of booking')\n",
        "plt.savefig('nFeature1_vs_book')"
      ],
      "execution_count": 0,
      "outputs": [
        {
          "output_type": "display_data",
          "data": {
            "image/png": "[encoded data removed]",
            "text/plain": [
              "<Figure size 432x288 with 1 Axes>"
            ]
          },
          "metadata": {
            "tags": []
          }
        }
      ]
    },
    {
      "cell_type": "code",
      "metadata": {
        "id": "0BAykxIK1Q2w",
        "colab_type": "code",
        "outputId": "2a4da421-a51e-4504-f882-751729068f20",
        "colab": {
          "base_uri": "https://localhost:8080/",
          "height": 298
        }
      },
      "source": [
        "table=pd.crosstab(downsampled.nFeature2,downsampled.Target)\n",
        "table.div(table.sum(1).astype(float), axis=0).plot(kind='bar', stacked=True)\n",
        "plt.title('Stacked Bar Chart of Nominal Feature2 vs Booking')\n",
        "plt.xlabel('Nominal Feature 2')\n",
        "plt.ylabel('Proportion of booking')\n",
        "plt.savefig('nFeature2_vs_book')"
      ],
      "execution_count": 0,
      "outputs": [
        {
          "output_type": "display_data",
          "data": {
            "image/png": "[encoded data removed]",
            "text/plain": [
              "<Figure size 432x288 with 1 Axes>"
            ]
          },
          "metadata": {
            "tags": []
          }
        }
      ]
    },
    {
      "cell_type": "markdown",
      "metadata": {
        "id": "npntmSLhavSm",
        "colab_type": "text"
      },
      "source": [
        "While analysing these graphs, all the categorical variables seem important at the initial stage. Therefore I am going to skip this approach."
      ]
    },
    {
      "cell_type": "markdown",
      "metadata": {
        "id": "ABIbI0QxAvhC",
        "colab_type": "text"
      },
      "source": [
        "**We will first try to analyse and solve question 2 i.e. whether price has an influence on the customer's purchasing behavior. **"
      ]
    },
    {
      "cell_type": "markdown",
      "metadata": {
        "id": "9f9hHXtFBJ89",
        "colab_type": "text"
      },
      "source": [
        "**Let's first Plot the data between two variables**"
      ]
    },
    {
      "cell_type": "code",
      "metadata": {
        "id": "PW1GG3rtBfHS",
        "colab_type": "code",
        "colab": {}
      },
      "source": [
        "y = downsampled['Target']\n",
        "x1 = downsampled['priceOfCar']"
      ],
      "execution_count": 0,
      "outputs": []
    },
    {
      "cell_type": "markdown",
      "metadata": {
        "id": "S9v898ekBT-D",
        "colab_type": "text"
      },
      "source": [
        "**Scatter Plot**"
      ]
    },
    {
      "cell_type": "code",
      "metadata": {
        "id": "3uiQWzvJ_Tcl",
        "colab_type": "code",
        "outputId": "d71e5600-a365-4c21-a559-32f6ff8634bc",
        "colab": {
          "base_uri": "https://localhost:8080/",
          "height": 291
        }
      },
      "source": [
        "plt.scatter(x1,y)\n",
        "plt.xlabel('Price of Car', fontsize=20)\n",
        "plt.ylabel('Target', fontsize=20)\n",
        "plt.show()"
      ],
      "execution_count": 0,
      "outputs": [
        {
          "output_type": "display_data",
          "data": {
            "image/png": "[encoded data removed]",
            "text/plain": [
              "<Figure size 432x288 with 1 Axes>"
            ]
          },
          "metadata": {
            "tags": []
          }
        }
      ]
    },
    {
      "cell_type": "markdown",
      "metadata": {
        "id": "U6nmDqYHDF3e",
        "colab_type": "text"
      },
      "source": [
        "From the scatter plot, the initial analysis is that if we solely look on the price, cheaper cars seem to have more chance of being picked. \n",
        "We are going to use Logistic Regression technique to determine the relation between the two variables. "
      ]
    },
    {
      "cell_type": "markdown",
      "metadata": {
        "id": "_XvMozNNFD9q",
        "colab_type": "text"
      },
      "source": [
        "**Regression**"
      ]
    },
    {
      "cell_type": "code",
      "metadata": {
        "id": "L4RneRc_BvF_",
        "colab_type": "code",
        "outputId": "bd2d0fd4-1c88-4e4c-9842-20d21e543598",
        "colab": {
          "base_uri": "https://localhost:8080/",
          "height": 122
        }
      },
      "source": [
        "x = sm.add_constant(x1)\n",
        "reg_log = sm.Logit(y,x)\n",
        "results_log = reg_log.fit()"
      ],
      "execution_count": 0,
      "outputs": [
        {
          "output_type": "stream",
          "text": [
            "Optimization terminated successfully.\n",
            "         Current function value: 0.601130\n",
            "         Iterations 7\n"
          ],
          "name": "stdout"
        },
        {
          "output_type": "stream",
          "text": [
            "/usr/local/lib/python3.6/dist-packages/numpy/core/fromnumeric.py:2495: FutureWarning: Method .ptp is deprecated and will be removed in a future version. Use numpy.ptp instead.\n",
            "  return ptp(axis=axis, out=out, **kwargs)\n"
          ],
          "name": "stderr"
        }
      ]
    },
    {
      "cell_type": "code",
      "metadata": {
        "id": "fJM2fk5XFKhG",
        "colab_type": "code",
        "outputId": "55dc2d0f-20f9-41c7-e3d9-4bda8f2045c9",
        "colab": {
          "base_uri": "https://localhost:8080/",
          "height": 248
        }
      },
      "source": [
        "results_log.summary()"
      ],
      "execution_count": 0,
      "outputs": [
        {
          "output_type": "execute_result",
          "data": {
            "text/html": [
              "<table class=\"simpletable\">\n",
              "<caption>Logit Regression Results</caption>\n",
              "<tr>\n",
              "  <th>Dep. Variable:</th>        <td>Target</td>      <th>  No. Observations:  </th>   <td>  6122</td>  \n",
              "</tr>\n",
              "<tr>\n",
              "  <th>Model:</th>                 <td>Logit</td>      <th>  Df Residuals:      </th>   <td>  6120</td>  \n",
              "</tr>\n",
              "<tr>\n",
              "  <th>Method:</th>                 <td>MLE</td>       <th>  Df Model:          </th>   <td>     1</td>  \n",
              "</tr>\n",
              "<tr>\n",
              "  <th>Date:</th>            <td>Fri, 24 Jan 2020</td> <th>  Pseudo R-squ.:     </th>   <td>0.1328</td>  \n",
              "</tr>\n",
              "<tr>\n",
              "  <th>Time:</th>                <td>10:08:23</td>     <th>  Log-Likelihood:    </th>  <td> -3680.1</td> \n",
              "</tr>\n",
              "<tr>\n",
              "  <th>converged:</th>             <td>True</td>       <th>  LL-Null:           </th>  <td> -4243.4</td> \n",
              "</tr>\n",
              "<tr>\n",
              "  <th>Covariance Type:</th>     <td>nonrobust</td>    <th>  LLR p-value:       </th> <td>5.304e-247</td>\n",
              "</tr>\n",
              "</table>\n",
              "<table class=\"simpletable\">\n",
              "<tr>\n",
              "       <td></td>         <th>coef</th>     <th>std err</th>      <th>z</th>      <th>P>|z|</th>  <th>[0.025</th>    <th>0.975]</th>  \n",
              "</tr>\n",
              "<tr>\n",
              "  <th>const</th>      <td>    1.5248</td> <td>    0.062</td> <td>   24.688</td> <td> 0.000</td> <td>    1.404</td> <td>    1.646</td>\n",
              "</tr>\n",
              "<tr>\n",
              "  <th>priceOfCar</th> <td>   -0.0036</td> <td>    0.000</td> <td>  -24.919</td> <td> 0.000</td> <td>   -0.004</td> <td>   -0.003</td>\n",
              "</tr>\n",
              "</table>"
            ],
            "text/plain": [
              "<class 'statsmodels.iolib.summary.Summary'>\n",
              "\"\"\"\n",
              "                           Logit Regression Results                           \n",
              "==============================================================================\n",
              "Dep. Variable:                 Target   No. Observations:                 6122\n",
              "Model:                          Logit   Df Residuals:                     6120\n",
              "Method:                           MLE   Df Model:                            1\n",
              "Date:                Fri, 24 Jan 2020   Pseudo R-squ.:                  0.1328\n",
              "Time:                        10:08:23   Log-Likelihood:                -3680.1\n",
              "converged:                       True   LL-Null:                       -4243.4\n",
              "Covariance Type:            nonrobust   LLR p-value:                5.304e-247\n",
              "==============================================================================\n",
              "                 coef    std err          z      P>|z|      [0.025      0.975]\n",
              "------------------------------------------------------------------------------\n",
              "const          1.5248      0.062     24.688      0.000       1.404       1.646\n",
              "priceOfCar    -0.0036      0.000    -24.919      0.000      -0.004      -0.003\n",
              "==============================================================================\n",
              "\"\"\""
            ]
          },
          "metadata": {
            "tags": []
          },
          "execution_count": 104
        }
      ]
    },
    {
      "cell_type": "markdown",
      "metadata": {
        "id": "pUtqZ6L4Gve3",
        "colab_type": "text"
      },
      "source": [
        "**Analysis of Summary**\n",
        "1. This method uses MLE to determine the relationship and dependance between two variables. MLE tries to maximize Log-Likelihood.\n",
        "2. The bigger the value of Log-Likelihood the better\n",
        "3. The 'LL Null' is the log likelihood of a model which has no independant variables. \n",
        "4. Now to check if our model is significant we have LLR p-value (Log Likelihood Ration test). If the p-value is verly low which as we can see is actually 0.000 our model is significant. \n",
        "\n"
      ]
    },
    {
      "cell_type": "markdown",
      "metadata": {
        "id": "AU4sWscQPn_0",
        "colab_type": "text"
      },
      "source": [
        "**Accuracy**"
      ]
    },
    {
      "cell_type": "code",
      "metadata": {
        "id": "rOudSg5BGBs3",
        "colab_type": "code",
        "outputId": "6dcdca95-32b0-4b99-82dc-05037a578611",
        "colab": {
          "base_uri": "https://localhost:8080/",
          "height": 34
        }
      },
      "source": [
        "np.set_printoptions(formatter={\"float\" : lambda x: \"{0:0.2f}\".format(x)})\n",
        "results_log.predict()"
      ],
      "execution_count": 0,
      "outputs": [
        {
          "output_type": "execute_result",
          "data": {
            "text/plain": [
              "array([0.39, 0.02, 0.40, ..., 0.49, 0.67, 0.71])"
            ]
          },
          "metadata": {
            "tags": []
          },
          "execution_count": 105
        }
      ]
    },
    {
      "cell_type": "code",
      "metadata": {
        "id": "1yX5251pQJR6",
        "colab_type": "code",
        "outputId": "9eb51dd1-4e5f-4960-c146-14cc5e19c9b9",
        "colab": {
          "base_uri": "https://localhost:8080/",
          "height": 34
        }
      },
      "source": [
        "np.array(data['Target'])"
      ],
      "execution_count": 0,
      "outputs": [
        {
          "output_type": "execute_result",
          "data": {
            "text/plain": [
              "array([0, 0, 0, ..., 0, 0, 0])"
            ]
          },
          "metadata": {
            "tags": []
          },
          "execution_count": 106
        }
      ]
    },
    {
      "cell_type": "code",
      "metadata": {
        "id": "f1JFXX6jQgSN",
        "colab_type": "code",
        "outputId": "ed2d7f4f-aaa7-42ea-9792-6d24aed61baa",
        "colab": {
          "base_uri": "https://localhost:8080/",
          "height": 51
        }
      },
      "source": [
        "results_log.pred_table()"
      ],
      "execution_count": 0,
      "outputs": [
        {
          "output_type": "execute_result",
          "data": {
            "text/plain": [
              "array([[1601.00, 1460.00],\n",
              "       [660.00, 2401.00]])"
            ]
          },
          "metadata": {
            "tags": []
          },
          "execution_count": 107
        }
      ]
    },
    {
      "cell_type": "markdown",
      "metadata": {
        "id": "K-MmKcCmD2CF",
        "colab_type": "text"
      },
      "source": [
        "**Validation with Confusion Matrix**"
      ]
    },
    {
      "cell_type": "code",
      "metadata": {
        "id": "Eehsk2IeQppp",
        "colab_type": "code",
        "outputId": "d3789eb4-78ec-4fa9-dea9-9fec9573689f",
        "colab": {
          "base_uri": "https://localhost:8080/",
          "height": 111
        }
      },
      "source": [
        "cm_df = pd.DataFrame(results_log.pred_table())\n",
        "cm_df.columns = ['Predicted 0', 'Predicted 1']\n",
        "cm_df = cm_df.rename(index= {0: 'Actual 0', 1: 'Actual 1'})\n",
        "cm_df"
      ],
      "execution_count": 0,
      "outputs": [
        {
          "output_type": "execute_result",
          "data": {
            "text/html": [
              "<div>\n",
              "<style scoped>\n",
              "    .dataframe tbody tr th:only-of-type {\n",
              "        vertical-align: middle;\n",
              "    }\n",
              "\n",
              "    .dataframe tbody tr th {\n",
              "        vertical-align: top;\n",
              "    }\n",
              "\n",
              "    .dataframe thead th {\n",
              "        text-align: right;\n",
              "    }\n",
              "</style>\n",
              "<table border=\"1\" class=\"dataframe\">\n",
              "  <thead>\n",
              "    <tr style=\"text-align: right;\">\n",
              "      <th></th>\n",
              "      <th>Predicted 0</th>\n",
              "      <th>Predicted 1</th>\n",
              "    </tr>\n",
              "  </thead>\n",
              "  <tbody>\n",
              "    <tr>\n",
              "      <th>Actual 0</th>\n",
              "      <td>1601.0</td>\n",
              "      <td>1460.0</td>\n",
              "    </tr>\n",
              "    <tr>\n",
              "      <th>Actual 1</th>\n",
              "      <td>660.0</td>\n",
              "      <td>2401.0</td>\n",
              "    </tr>\n",
              "  </tbody>\n",
              "</table>\n",
              "</div>"
            ],
            "text/plain": [
              "          Predicted 0  Predicted 1\n",
              "Actual 0       1601.0       1460.0\n",
              "Actual 1        660.0       2401.0"
            ]
          },
          "metadata": {
            "tags": []
          },
          "execution_count": 108
        }
      ]
    },
    {
      "cell_type": "code",
      "metadata": {
        "id": "D28woNanRQNi",
        "colab_type": "code",
        "outputId": "0feb53e3-af2e-41c5-e9c5-61a67ca4010a",
        "colab": {
          "base_uri": "https://localhost:8080/",
          "height": 34
        }
      },
      "source": [
        "cm = np.array(cm_df)\n",
        "accuracy_train = (cm[0,0] + cm[1,1])/cm.sum()\n",
        "accuracy_train"
      ],
      "execution_count": 0,
      "outputs": [
        {
          "output_type": "execute_result",
          "data": {
            "text/plain": [
              "0.6537079385821627"
            ]
          },
          "metadata": {
            "tags": []
          },
          "execution_count": 109
        }
      ]
    },
    {
      "cell_type": "markdown",
      "metadata": {
        "id": "Wuy4tWYAR94r",
        "colab_type": "text"
      },
      "source": [
        "Now accroding to this we could say that model is 65.3% accurate\n",
        "\n",
        "So pricing alone is not very signficant. "
      ]
    },
    {
      "cell_type": "markdown",
      "metadata": {
        "id": "uVqIJBrOP6aY",
        "colab_type": "text"
      },
      "source": [
        "#Analysis of Other Parameters in addition to price"
      ]
    },
    {
      "cell_type": "code",
      "metadata": {
        "id": "b6ERoMO29wLe",
        "colab_type": "code",
        "outputId": "915a8c47-d2ad-4c2b-c3ef-761b0cd8fe95",
        "colab": {
          "base_uri": "https://localhost:8080/",
          "height": 100
        }
      },
      "source": [
        "# Separate input features and target\n",
        "os_data_y = downsampled['Target']\n",
        "os_data_x = downsampled.drop(['Target', 'queryDate', 'vehicleID', 'PickUpDate', 'queryID'] , axis=1)\n",
        "os_data_x.head(1)"
      ],
      "execution_count": 0,
      "outputs": [
        {
          "output_type": "execute_result",
          "data": {
            "text/html": [
              "<div>\n",
              "<style scoped>\n",
              "    .dataframe tbody tr th:only-of-type {\n",
              "        vertical-align: middle;\n",
              "    }\n",
              "\n",
              "    .dataframe tbody tr th {\n",
              "        vertical-align: top;\n",
              "    }\n",
              "\n",
              "    .dataframe thead th {\n",
              "        text-align: right;\n",
              "    }\n",
              "</style>\n",
              "<table border=\"1\" class=\"dataframe\">\n",
              "  <thead>\n",
              "    <tr style=\"text-align: right;\">\n",
              "      <th></th>\n",
              "      <th>nFeature1</th>\n",
              "      <th>nFeature2</th>\n",
              "      <th>priceOfCar</th>\n",
              "      <th>nFeature3</th>\n",
              "      <th>nFeature4</th>\n",
              "      <th>nFeature5</th>\n",
              "      <th>cFeature1</th>\n",
              "      <th>cFeature2</th>\n",
              "      <th>cFeature3</th>\n",
              "      <th>nFeature6</th>\n",
              "      <th>nFeature7</th>\n",
              "      <th>nFeature8</th>\n",
              "      <th>nFeature9</th>\n",
              "      <th>nFeature10</th>\n",
              "      <th>nFeature11</th>\n",
              "      <th>nQFeature1</th>\n",
              "      <th>nQFeature2</th>\n",
              "      <th>RentDuration</th>\n",
              "      <th>nQFeature3</th>\n",
              "    </tr>\n",
              "  </thead>\n",
              "  <tbody>\n",
              "    <tr>\n",
              "      <th>609627</th>\n",
              "      <td>1</td>\n",
              "      <td>1</td>\n",
              "      <td>550.14</td>\n",
              "      <td>1</td>\n",
              "      <td>1</td>\n",
              "      <td>1</td>\n",
              "      <td>5</td>\n",
              "      <td>2</td>\n",
              "      <td>5</td>\n",
              "      <td>1</td>\n",
              "      <td>0</td>\n",
              "      <td>2</td>\n",
              "      <td>505</td>\n",
              "      <td>3</td>\n",
              "      <td>0</td>\n",
              "      <td>2</td>\n",
              "      <td>1</td>\n",
              "      <td>14.0</td>\n",
              "      <td>2492</td>\n",
              "    </tr>\n",
              "  </tbody>\n",
              "</table>\n",
              "</div>"
            ],
            "text/plain": [
              "       nFeature1 nFeature2  priceOfCar  ... nQFeature2 RentDuration nQFeature3\n",
              "609627         1         1      550.14  ...          1         14.0       2492\n",
              "\n",
              "[1 rows x 19 columns]"
            ]
          },
          "metadata": {
            "tags": []
          },
          "execution_count": 134
        }
      ]
    },
    {
      "cell_type": "markdown",
      "metadata": {
        "id": "jmzQesrtPKfM",
        "colab_type": "text"
      },
      "source": [
        "Using Recursive Feature Elimination to check if can decrease some variables"
      ]
    },
    {
      "cell_type": "code",
      "metadata": {
        "id": "YtHU5jv38vbp",
        "colab_type": "code",
        "outputId": "dc80408e-3dfb-422f-c633-75fc83f76fea",
        "colab": {
          "base_uri": "https://localhost:8080/",
          "height": 258
        }
      },
      "source": [
        "data_final_vars=downsampled.columns.values.tolist()\n",
        "y=['y']\n",
        "X=[i for i in data_final_vars if i not in y]\n",
        "from sklearn.feature_selection import RFE\n",
        "from sklearn.linear_model import LogisticRegression\n",
        "logreg = LogisticRegression()\n",
        "rfe = RFE(logreg, 20)\n",
        "rfe = rfe.fit(os_data_x, os_data_y.values.ravel())\n",
        "print(rfe.support_)\n",
        "print(rfe.ranking_)"
      ],
      "execution_count": 0,
      "outputs": [
        {
          "output_type": "stream",
          "text": [
            "[ True  True  True  True  True  True  True  True  True  True  True  True\n",
            "  True  True  True  True  True  True  True]\n",
            "[1 1 1 1 1 1 1 1 1 1 1 1 1 1 1 1 1 1 1]\n"
          ],
          "name": "stdout"
        },
        {
          "output_type": "stream",
          "text": [
            "/usr/local/lib/python3.6/dist-packages/ipykernel_launcher.py:8: FutureWarning: Categorical.ravel will return a Categorical object instead of an ndarray in a future version.\n",
            "  \n",
            "/usr/local/lib/python3.6/dist-packages/sklearn/linear_model/_logistic.py:940: ConvergenceWarning: lbfgs failed to converge (status=1):\n",
            "STOP: TOTAL NO. of ITERATIONS REACHED LIMIT.\n",
            "\n",
            "Increase the number of iterations (max_iter) or scale the data as shown in:\n",
            "    https://scikit-learn.org/stable/modules/preprocessing.html\n",
            "Please also refer to the documentation for alternative solver options:\n",
            "    https://scikit-learn.org/stable/modules/linear_model.html#logistic-regression\n",
            "  extra_warning_msg=_LOGISTIC_SOLVER_CONVERGENCE_MSG)\n"
          ],
          "name": "stderr"
        }
      ]
    },
    {
      "cell_type": "markdown",
      "metadata": {
        "id": "N9qUDPT8PLO7",
        "colab_type": "text"
      },
      "source": [
        "So, this method is not able to remove any of the features. \n",
        "\n",
        "Now, I am going to treat Continous and Categorical variables differently due to time contraints. First and foremost I will check for correlation between continous variables. \n",
        "**If there is a high correlation(either -ve or +ve) between two columns I will remove either of the two columns.**"
      ]
    },
    {
      "cell_type": "code",
      "metadata": {
        "id": "K1BuHttMO9k2",
        "colab_type": "code",
        "outputId": "4b7f535e-59b6-4d8f-9cf1-0a96d4dcaa70",
        "colab": {
          "base_uri": "https://localhost:8080/",
          "height": 266
        }
      },
      "source": [
        "downsampled.corr(method ='pearson') "
      ],
      "execution_count": 0,
      "outputs": [
        {
          "output_type": "execute_result",
          "data": {
            "text/html": [
              "<div>\n",
              "<style scoped>\n",
              "    .dataframe tbody tr th:only-of-type {\n",
              "        vertical-align: middle;\n",
              "    }\n",
              "\n",
              "    .dataframe tbody tr th {\n",
              "        vertical-align: top;\n",
              "    }\n",
              "\n",
              "    .dataframe thead th {\n",
              "        text-align: right;\n",
              "    }\n",
              "</style>\n",
              "<table border=\"1\" class=\"dataframe\">\n",
              "  <thead>\n",
              "    <tr style=\"text-align: right;\">\n",
              "      <th></th>\n",
              "      <th>queryID</th>\n",
              "      <th>vehicleID</th>\n",
              "      <th>priceOfCar</th>\n",
              "      <th>cFeature1</th>\n",
              "      <th>cFeature2</th>\n",
              "      <th>cFeature3</th>\n",
              "      <th>RentDuration</th>\n",
              "    </tr>\n",
              "  </thead>\n",
              "  <tbody>\n",
              "    <tr>\n",
              "      <th>queryID</th>\n",
              "      <td>1.000000</td>\n",
              "      <td>0.020366</td>\n",
              "      <td>-0.000238</td>\n",
              "      <td>-0.008459</td>\n",
              "      <td>-0.009045</td>\n",
              "      <td>-0.009724</td>\n",
              "      <td>0.004263</td>\n",
              "    </tr>\n",
              "    <tr>\n",
              "      <th>vehicleID</th>\n",
              "      <td>0.020366</td>\n",
              "      <td>1.000000</td>\n",
              "      <td>-0.015180</td>\n",
              "      <td>0.011063</td>\n",
              "      <td>-0.025251</td>\n",
              "      <td>-0.013151</td>\n",
              "      <td>-0.008601</td>\n",
              "    </tr>\n",
              "    <tr>\n",
              "      <th>priceOfCar</th>\n",
              "      <td>-0.000238</td>\n",
              "      <td>-0.015180</td>\n",
              "      <td>1.000000</td>\n",
              "      <td>-0.033846</td>\n",
              "      <td>0.186822</td>\n",
              "      <td>0.180523</td>\n",
              "      <td>0.332663</td>\n",
              "    </tr>\n",
              "    <tr>\n",
              "      <th>cFeature1</th>\n",
              "      <td>-0.008459</td>\n",
              "      <td>0.011063</td>\n",
              "      <td>-0.033846</td>\n",
              "      <td>1.000000</td>\n",
              "      <td>0.284926</td>\n",
              "      <td>0.362970</td>\n",
              "      <td>0.040983</td>\n",
              "    </tr>\n",
              "    <tr>\n",
              "      <th>cFeature2</th>\n",
              "      <td>-0.009045</td>\n",
              "      <td>-0.025251</td>\n",
              "      <td>0.186822</td>\n",
              "      <td>0.284926</td>\n",
              "      <td>1.000000</td>\n",
              "      <td>0.248507</td>\n",
              "      <td>-0.007481</td>\n",
              "    </tr>\n",
              "    <tr>\n",
              "      <th>cFeature3</th>\n",
              "      <td>-0.009724</td>\n",
              "      <td>-0.013151</td>\n",
              "      <td>0.180523</td>\n",
              "      <td>0.362970</td>\n",
              "      <td>0.248507</td>\n",
              "      <td>1.000000</td>\n",
              "      <td>-0.029985</td>\n",
              "    </tr>\n",
              "    <tr>\n",
              "      <th>RentDuration</th>\n",
              "      <td>0.004263</td>\n",
              "      <td>-0.008601</td>\n",
              "      <td>0.332663</td>\n",
              "      <td>0.040983</td>\n",
              "      <td>-0.007481</td>\n",
              "      <td>-0.029985</td>\n",
              "      <td>1.000000</td>\n",
              "    </tr>\n",
              "  </tbody>\n",
              "</table>\n",
              "</div>"
            ],
            "text/plain": [
              "               queryID  vehicleID  ...  cFeature3  RentDuration\n",
              "queryID       1.000000   0.020366  ...  -0.009724      0.004263\n",
              "vehicleID     0.020366   1.000000  ...  -0.013151     -0.008601\n",
              "priceOfCar   -0.000238  -0.015180  ...   0.180523      0.332663\n",
              "cFeature1    -0.008459   0.011063  ...   0.362970      0.040983\n",
              "cFeature2    -0.009045  -0.025251  ...   0.248507     -0.007481\n",
              "cFeature3    -0.009724  -0.013151  ...   1.000000     -0.029985\n",
              "RentDuration  0.004263  -0.008601  ...  -0.029985      1.000000\n",
              "\n",
              "[7 rows x 7 columns]"
            ]
          },
          "metadata": {
            "tags": []
          },
          "execution_count": 110
        }
      ]
    },
    {
      "cell_type": "markdown",
      "metadata": {
        "id": "cy0tFlMgSFxC",
        "colab_type": "text"
      },
      "source": [
        "Since we can see that, no high correlation exist between any two variables we are going to apply regression to check the importance of continous variables. \n",
        "\n",
        "**The code is going to be the same as for pricing.**"
      ]
    },
    {
      "cell_type": "code",
      "metadata": {
        "id": "pcS1e7KHSrBI",
        "colab_type": "code",
        "colab": {}
      },
      "source": [
        "y_check = downsampled['Target']\n",
        "x2 = downsampled[['cFeature1', 'cFeature2', 'cFeature3','RentDuration', 'priceOfCar']]"
      ],
      "execution_count": 0,
      "outputs": []
    },
    {
      "cell_type": "code",
      "metadata": {
        "id": "hYs6fadITl9U",
        "colab_type": "code",
        "outputId": "aafd0c4d-5f67-401f-bca9-7403d0999a3f",
        "colab": {
          "base_uri": "https://localhost:8080/",
          "height": 122
        }
      },
      "source": [
        "x_check = sm.add_constant(x2)\n",
        "reg_log_2 = sm.Logit(y_check,x_check)\n",
        "results_log_2 = reg_log.fit()"
      ],
      "execution_count": 0,
      "outputs": [
        {
          "output_type": "stream",
          "text": [
            "Optimization terminated successfully.\n",
            "         Current function value: 0.601130\n",
            "         Iterations 7\n"
          ],
          "name": "stdout"
        },
        {
          "output_type": "stream",
          "text": [
            "/usr/local/lib/python3.6/dist-packages/numpy/core/fromnumeric.py:2495: FutureWarning: Method .ptp is deprecated and will be removed in a future version. Use numpy.ptp instead.\n",
            "  return ptp(axis=axis, out=out, **kwargs)\n"
          ],
          "name": "stderr"
        }
      ]
    },
    {
      "cell_type": "code",
      "metadata": {
        "id": "1CvkmdsiU_BT",
        "colab_type": "code",
        "outputId": "9ef5c46e-8d5d-4de4-fa4f-7e31bcf91a00",
        "colab": {
          "base_uri": "https://localhost:8080/",
          "height": 248
        }
      },
      "source": [
        "results_log_2.summary()"
      ],
      "execution_count": 0,
      "outputs": [
        {
          "output_type": "execute_result",
          "data": {
            "text/html": [
              "<table class=\"simpletable\">\n",
              "<caption>Logit Regression Results</caption>\n",
              "<tr>\n",
              "  <th>Dep. Variable:</th>        <td>Target</td>      <th>  No. Observations:  </th>   <td>  6122</td>  \n",
              "</tr>\n",
              "<tr>\n",
              "  <th>Model:</th>                 <td>Logit</td>      <th>  Df Residuals:      </th>   <td>  6120</td>  \n",
              "</tr>\n",
              "<tr>\n",
              "  <th>Method:</th>                 <td>MLE</td>       <th>  Df Model:          </th>   <td>     1</td>  \n",
              "</tr>\n",
              "<tr>\n",
              "  <th>Date:</th>            <td>Fri, 24 Jan 2020</td> <th>  Pseudo R-squ.:     </th>   <td>0.1328</td>  \n",
              "</tr>\n",
              "<tr>\n",
              "  <th>Time:</th>                <td>11:12:40</td>     <th>  Log-Likelihood:    </th>  <td> -3680.1</td> \n",
              "</tr>\n",
              "<tr>\n",
              "  <th>converged:</th>             <td>True</td>       <th>  LL-Null:           </th>  <td> -4243.4</td> \n",
              "</tr>\n",
              "<tr>\n",
              "  <th>Covariance Type:</th>     <td>nonrobust</td>    <th>  LLR p-value:       </th> <td>5.304e-247</td>\n",
              "</tr>\n",
              "</table>\n",
              "<table class=\"simpletable\">\n",
              "<tr>\n",
              "       <td></td>         <th>coef</th>     <th>std err</th>      <th>z</th>      <th>P>|z|</th>  <th>[0.025</th>    <th>0.975]</th>  \n",
              "</tr>\n",
              "<tr>\n",
              "  <th>const</th>      <td>    1.5248</td> <td>    0.062</td> <td>   24.688</td> <td> 0.000</td> <td>    1.404</td> <td>    1.646</td>\n",
              "</tr>\n",
              "<tr>\n",
              "  <th>priceOfCar</th> <td>   -0.0036</td> <td>    0.000</td> <td>  -24.919</td> <td> 0.000</td> <td>   -0.004</td> <td>   -0.003</td>\n",
              "</tr>\n",
              "</table>"
            ],
            "text/plain": [
              "<class 'statsmodels.iolib.summary.Summary'>\n",
              "\"\"\"\n",
              "                           Logit Regression Results                           \n",
              "==============================================================================\n",
              "Dep. Variable:                 Target   No. Observations:                 6122\n",
              "Model:                          Logit   Df Residuals:                     6120\n",
              "Method:                           MLE   Df Model:                            1\n",
              "Date:                Fri, 24 Jan 2020   Pseudo R-squ.:                  0.1328\n",
              "Time:                        11:12:40   Log-Likelihood:                -3680.1\n",
              "converged:                       True   LL-Null:                       -4243.4\n",
              "Covariance Type:            nonrobust   LLR p-value:                5.304e-247\n",
              "==============================================================================\n",
              "                 coef    std err          z      P>|z|      [0.025      0.975]\n",
              "------------------------------------------------------------------------------\n",
              "const          1.5248      0.062     24.688      0.000       1.404       1.646\n",
              "priceOfCar    -0.0036      0.000    -24.919      0.000      -0.004      -0.003\n",
              "==============================================================================\n",
              "\"\"\""
            ]
          },
          "metadata": {
            "tags": []
          },
          "execution_count": 183
        }
      ]
    },
    {
      "cell_type": "code",
      "metadata": {
        "id": "Bs9VFGdCVfvq",
        "colab_type": "code",
        "outputId": "212e5d5b-ef41-487d-8264-2512a9257ef8",
        "colab": {
          "base_uri": "https://localhost:8080/",
          "height": 51
        }
      },
      "source": [
        "np.set_printoptions(formatter={\"float\" : lambda x: \"{0:0.2f}\".format(x)})\n",
        "results_log_2.predict()\n",
        "np.array(data['Target'])\n",
        "results_log_2.pred_table()"
      ],
      "execution_count": 0,
      "outputs": [
        {
          "output_type": "execute_result",
          "data": {
            "text/plain": [
              "array([[1601.00, 1460.00],\n",
              "       [660.00, 2401.00]])"
            ]
          },
          "metadata": {
            "tags": []
          },
          "execution_count": 184
        }
      ]
    },
    {
      "cell_type": "markdown",
      "metadata": {
        "id": "wftMT0K3WV41",
        "colab_type": "text"
      },
      "source": [
        "Analysis:\n",
        "\n",
        "Althought initially from the results_log it seems that continous variables might be having an impact on the data but when plotting the confusion matrix the results are same."
      ]
    },
    {
      "cell_type": "markdown",
      "metadata": {
        "id": "zPG0GtvZTSbL",
        "colab_type": "text"
      },
      "source": [
        "\n",
        "#**Observing Categorical Features**\n",
        "\n"
      ]
    },
    {
      "cell_type": "markdown",
      "metadata": {
        "id": "TmzFnzWkGq-f",
        "colab_type": "text"
      },
      "source": [
        "Now, there are a lot of Categorical(Nominal) variables in this dataset, of which we have no theoritical understanding. Also, it is not possible to find correlation between these variable. \n",
        "\n",
        "We can use a Deep Learning here and insert all categorical variables to get a model that predicts target. \n"
      ]
    },
    {
      "cell_type": "code",
      "metadata": {
        "id": "mZ2DeXVOHUSF",
        "colab_type": "code",
        "outputId": "72d1ee17-2321-4410-f52b-2daef3b8da01",
        "colab": {
          "base_uri": "https://localhost:8080/",
          "height": 119
        }
      },
      "source": [
        "downsampled.columns"
      ],
      "execution_count": 0,
      "outputs": [
        {
          "output_type": "execute_result",
          "data": {
            "text/plain": [
              "Index(['queryID', 'vehicleID', 'queryDate', 'nFeature1', 'nFeature2',\n",
              "       'priceOfCar', 'nFeature3', 'nFeature4', 'nFeature5', 'cFeature1',\n",
              "       'cFeature2', 'cFeature3', 'nFeature6', 'nFeature7', 'nFeature8',\n",
              "       'nFeature9', 'nFeature10', 'nFeature11', 'nQFeature1', 'nQFeature2',\n",
              "       'RentDuration', 'PickUpDate', 'nQFeature3', 'Target'],\n",
              "      dtype='object')"
            ]
          },
          "metadata": {
            "tags": []
          },
          "execution_count": 137
        }
      ]
    },
    {
      "cell_type": "code",
      "metadata": {
        "id": "PaK0jMXqGZQd",
        "colab_type": "code",
        "colab": {}
      },
      "source": [
        "data_categorical = downsampled[['nFeature1','nFeature2',\n",
        "        'nFeature3', 'nFeature4', 'nFeature5', 'nFeature6', 'nFeature7', 'nFeature8',\n",
        "       'nFeature9', 'nFeature10', 'nFeature11', 'nQFeature1', 'nQFeature2','nQFeature3']].to_numpy()"
      ],
      "execution_count": 0,
      "outputs": []
    },
    {
      "cell_type": "code",
      "metadata": {
        "id": "LY24yDbeIO0e",
        "colab_type": "code",
        "outputId": "79f31e57-31f4-481a-f18e-08143846886b",
        "colab": {
          "base_uri": "https://localhost:8080/",
          "height": 136
        }
      },
      "source": [
        "data_categorical"
      ],
      "execution_count": 0,
      "outputs": [
        {
          "output_type": "execute_result",
          "data": {
            "text/plain": [
              "array([[1, 1, 1, ..., 2, 1, 2492],\n",
              "       [1, 1, 11, ..., 1, 2, 71],\n",
              "       [2, 0, 2, ..., 1, 1, 2492],\n",
              "       ...,\n",
              "       [1, 1, 2, ..., 1, 2, 71],\n",
              "       [1, 1, 4, ..., 1, 2, 71],\n",
              "       [1, 1, 1, ..., 1, 2, 71]], dtype=object)"
            ]
          },
          "metadata": {
            "tags": []
          },
          "execution_count": 148
        }
      ]
    },
    {
      "cell_type": "markdown",
      "metadata": {
        "id": "HF_2MvdYJ2nS",
        "colab_type": "text"
      },
      "source": [
        "Splitting the data in Train and Test"
      ]
    },
    {
      "cell_type": "code",
      "metadata": {
        "id": "lP93OqhOqheQ",
        "colab_type": "code",
        "colab": {}
      },
      "source": [
        "Y=downsampled[['Target']].values  #targets\n",
        "X=data_categorical #input"
      ],
      "execution_count": 0,
      "outputs": []
    },
    {
      "cell_type": "code",
      "metadata": {
        "id": "ybW9dMS0ppUP",
        "colab_type": "code",
        "colab": {}
      },
      "source": [
        "X_train, X_test, Y_train, Y_test = train_test_split(X,Y, test_size=0.2, random_state=42) # random state for reproducability"
      ],
      "execution_count": 0,
      "outputs": []
    },
    {
      "cell_type": "code",
      "metadata": {
        "id": "VbvZ8ajVnios",
        "colab_type": "code",
        "outputId": "19e0ff98-09e4-4cba-b352-09d4576861b2",
        "colab": {
          "base_uri": "https://localhost:8080/",
          "height": 85
        }
      },
      "source": [
        "print('X_train', X_train.shape)\n",
        "print('X_test', X_test.shape)\n",
        "print('Y_train', Y_train.shape)\n",
        "print('Y_test', Y_test.shape)"
      ],
      "execution_count": 0,
      "outputs": [
        {
          "output_type": "stream",
          "text": [
            "X_train (4897, 14)\n",
            "X_test (1225, 14)\n",
            "Y_train (4897, 1)\n",
            "Y_test (1225, 1)\n"
          ],
          "name": "stdout"
        }
      ]
    },
    {
      "cell_type": "markdown",
      "metadata": {
        "id": "J913noGBvRG0",
        "colab_type": "text"
      },
      "source": [
        "# Construction of Neural Networks"
      ]
    },
    {
      "cell_type": "code",
      "metadata": {
        "id": "F8XxIw4bKl8q",
        "colab_type": "code",
        "colab": {}
      },
      "source": [
        "import keras\n",
        "from keras.layers import Dense\n",
        "from keras.models import Sequential\n",
        "from keras.optimizers import SGD\n",
        "from keras.callbacks import EarlyStopping"
      ],
      "execution_count": 0,
      "outputs": []
    },
    {
      "cell_type": "code",
      "metadata": {
        "id": "PEX0z-bJ27Th",
        "colab_type": "code",
        "outputId": "28e43b1e-f651-47df-af28-548983272c79",
        "colab": {
          "base_uri": "https://localhost:8080/",
          "height": 34
        }
      },
      "source": [
        "n_cols = X_train.shape[1]\n",
        "n_cols"
      ],
      "execution_count": 0,
      "outputs": [
        {
          "output_type": "execute_result",
          "data": {
            "text/plain": [
              "14"
            ]
          },
          "metadata": {
            "tags": []
          },
          "execution_count": 160
        }
      ]
    },
    {
      "cell_type": "code",
      "metadata": {
        "id": "epM5H6BhvHdL",
        "colab_type": "code",
        "colab": {}
      },
      "source": [
        "# Save the number of columns in predictors: n_cols\n",
        "\n",
        "\n",
        "# Set up the model: model\n",
        "model = Sequential()"
      ],
      "execution_count": 0,
      "outputs": []
    },
    {
      "cell_type": "code",
      "metadata": {
        "id": "x83vuwVF3XbG",
        "colab_type": "code",
        "colab": {}
      },
      "source": [
        "# Add the first layer\n",
        "model.add(Dense(100, activation='relu', input_shape=(n_cols,)))"
      ],
      "execution_count": 0,
      "outputs": []
    },
    {
      "cell_type": "code",
      "metadata": {
        "id": "aX2iW1fawlVi",
        "colab_type": "code",
        "colab": {}
      },
      "source": [
        "# Add the second layer\n",
        "model.add(Dense(100, activation='relu'))"
      ],
      "execution_count": 0,
      "outputs": []
    },
    {
      "cell_type": "code",
      "metadata": {
        "id": "bbMCFekq3uZS",
        "colab_type": "code",
        "colab": {}
      },
      "source": [
        "# Add the output layer\n",
        "model.add(Dense(1, activation='sigmoid'))"
      ],
      "execution_count": 0,
      "outputs": []
    },
    {
      "cell_type": "code",
      "metadata": {
        "id": "OfvYMRfih7aA",
        "colab_type": "code",
        "outputId": "67e06d5a-3091-49e2-9319-edc03898b9a5",
        "colab": {
          "base_uri": "https://localhost:8080/",
          "height": 272
        }
      },
      "source": [
        "# Compile the model\n",
        "model.compile(optimizer='adam',\n",
        "              loss='binary_crossentropy',\n",
        "              metrics=['accuracy'])\n",
        "   \n",
        "# Define early_stopping_monitor\n",
        "early_stopping_monitor = EarlyStopping(patience=2)\n",
        "    \n",
        "# Fit the model\n",
        "#model.fit(X_train,Y_train,epochs=20,validation_data=(X_test,Y_test))\n",
        "# Fit the model\n",
        "history=model.fit(X_train, Y_train, validation_split=0.3, epochs=30,  callbacks= [early_stopping_monitor])"
      ],
      "execution_count": 0,
      "outputs": [
        {
          "output_type": "stream",
          "text": [
            "Train on 3427 samples, validate on 1470 samples\n",
            "Epoch 1/30\n",
            "3427/3427 [==============================] - 1s 233us/step - loss: 0.6506 - acc: 0.6078 - val_loss: 0.6437 - val_acc: 0.5878\n",
            "Epoch 2/30\n",
            "3427/3427 [==============================] - 0s 140us/step - loss: 0.6570 - acc: 0.5947 - val_loss: 0.6424 - val_acc: 0.6197\n",
            "Epoch 3/30\n",
            "3427/3427 [==============================] - 0s 139us/step - loss: 0.6517 - acc: 0.6040 - val_loss: 0.6409 - val_acc: 0.6218\n",
            "Epoch 4/30\n",
            "3427/3427 [==============================] - 1s 149us/step - loss: 0.6619 - acc: 0.5897 - val_loss: 0.6394 - val_acc: 0.6197\n",
            "Epoch 5/30\n",
            "3427/3427 [==============================] - 0s 128us/step - loss: 0.6512 - acc: 0.6067 - val_loss: 0.6392 - val_acc: 0.6197\n",
            "Epoch 6/30\n",
            "3427/3427 [==============================] - 0s 139us/step - loss: 0.6526 - acc: 0.6069 - val_loss: 0.6403 - val_acc: 0.6204\n",
            "Epoch 7/30\n",
            "3427/3427 [==============================] - 0s 133us/step - loss: 0.6530 - acc: 0.6064 - val_loss: 0.6432 - val_acc: 0.6204\n"
          ],
          "name": "stdout"
        }
      ]
    },
    {
      "cell_type": "code",
      "metadata": {
        "id": "PPpS7aYL4p6B",
        "colab_type": "code",
        "outputId": "675545f4-7830-4efd-cd87-d8d1cfd75418",
        "colab": {
          "base_uri": "https://localhost:8080/",
          "height": 301
        }
      },
      "source": [
        "loss = history.history['loss']\n",
        "val_loss = history.history['val_loss']\n",
        "\n",
        "epochs = range(1,len(loss)+1)\n",
        "\n",
        "plt.plot(epochs,loss,'bo',label='Training loss')\n",
        "plt.plot(epochs,val_loss,'b',label='Validation loss')\n",
        "plt.title('Training and validation loss')\n",
        "plt.xlabel('Epochs')\n",
        "plt.ylabel('Loss')\n",
        "plt.legend()\n",
        "plt.show()"
      ],
      "execution_count": 0,
      "outputs": [
        {
          "output_type": "display_data",
          "data": {
            "image/png": "[encoded data removed]",
            "text/plain": [
              "<Figure size 432x288 with 1 Axes>"
            ]
          },
          "metadata": {
            "tags": []
          }
        }
      ]
    },
    {
      "cell_type": "code",
      "metadata": {
        "id": "4ymxOEnzN3Tj",
        "colab_type": "code",
        "outputId": "c5ee7ffe-c196-4b8c-9117-a28f87dccd00",
        "colab": {
          "base_uri": "https://localhost:8080/",
          "height": 136
        }
      },
      "source": [
        "y_pred=model.predict(X_test)\n",
        "y_pred =(y_pred>0.5)\n",
        "print(y_pred)"
      ],
      "execution_count": 0,
      "outputs": [
        {
          "output_type": "stream",
          "text": [
            "[[False]\n",
            " [False]\n",
            " [False]\n",
            " ...\n",
            " [False]\n",
            " [ True]\n",
            " [False]]\n"
          ],
          "name": "stdout"
        }
      ]
    },
    {
      "cell_type": "code",
      "metadata": {
        "id": "V3f5uz-DOH5t",
        "colab_type": "code",
        "outputId": "f7a0b69c-4e5c-4f84-cf1f-34b5b65ccf3a",
        "colab": {
          "base_uri": "https://localhost:8080/",
          "height": 51
        }
      },
      "source": [
        "from sklearn.metrics import confusion_matrix\n",
        "cm_2 = confusion_matrix(Y_test, y_pred)\n",
        "print(cm_2)"
      ],
      "execution_count": 0,
      "outputs": [
        {
          "output_type": "stream",
          "text": [
            "[[502 122]\n",
            " [331 270]]\n"
          ],
          "name": "stdout"
        }
      ]
    },
    {
      "cell_type": "code",
      "metadata": {
        "id": "GO9umf-7JGW9",
        "colab_type": "code",
        "outputId": "1aae13b3-54f7-41be-933f-c3f50d3d2ede",
        "colab": {
          "base_uri": "https://localhost:8080/",
          "height": 34
        }
      },
      "source": [
        "cm = np.array(cm_2)\n",
        "accuracy_train = (cm[0,0] + cm[1,1])/cm.sum()\n",
        "accuracy_train"
      ],
      "execution_count": 0,
      "outputs": [
        {
          "output_type": "execute_result",
          "data": {
            "text/plain": [
              "0.6302040816326531"
            ]
          },
          "metadata": {
            "tags": []
          },
          "execution_count": 193
        }
      ]
    },
    {
      "cell_type": "code",
      "metadata": {
        "id": "PrdiRTJsQqoU",
        "colab_type": "code",
        "colab": {}
      },
      "source": [
        ""
      ],
      "execution_count": 0,
      "outputs": []
    }
  ]
}